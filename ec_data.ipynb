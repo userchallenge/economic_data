{
 "cells": [
  {
   "cell_type": "code",
   "execution_count": null,
   "id": "82f01cf9",
   "metadata": {},
   "outputs": [],
   "source": [
    "import logging\n",
    "\n",
    "from logger_config import setup_logging\n",
    "\n",
    "setup_logging(level=logging.INFO)\n",
    "\n",
    "\n",
    "import configparser\n",
    "\n",
    "import pandas as pd\n",
    "import main\n",
    "\n",
    "from economic_data.extract.economic_data import (\n",
    "    fetch_ecb_json,\n",
    "    fetch_eurostat_json,\n",
    "    fetch_fred_json,\n",
    ")\n",
    "from economic_data.transform.transform_economic_data import (\n",
    "    calculate_monthly_change,\n",
    "    ecb_json_to_df,\n",
    "    eurostat_json_to_df,\n",
    "    fred_json_to_df,\n",
    "    label_and_append,\n",
    "    set_monthly_ecb_interest_rate,\n",
    "    rename_economic_indicators,\n",
    "    threshold_csv_to_df,\n",
    ")\n",
    "\n",
    "logger = logging.getLogger(__name__)\n",
    "pd.set_option(\"display.max_rows\", 500)"
   ]
  },
  {
   "cell_type": "code",
   "execution_count": 2,
   "id": "71251994",
   "metadata": {},
   "outputs": [
    {
     "data": {
      "text/html": [
       "<div>\n",
       "<style scoped>\n",
       "    .dataframe tbody tr th:only-of-type {\n",
       "        vertical-align: middle;\n",
       "    }\n",
       "\n",
       "    .dataframe tbody tr th {\n",
       "        vertical-align: top;\n",
       "    }\n",
       "\n",
       "    .dataframe thead th {\n",
       "        text-align: right;\n",
       "    }\n",
       "</style>\n",
       "<table border=\"1\" class=\"dataframe\">\n",
       "  <thead>\n",
       "    <tr style=\"text-align: right;\">\n",
       "      <th></th>\n",
       "      <th>indicator</th>\n",
       "      <th>good_range</th>\n",
       "      <th>medium_range</th>\n",
       "      <th>bad_range</th>\n",
       "    </tr>\n",
       "  </thead>\n",
       "  <tbody>\n",
       "    <tr>\n",
       "      <th>0</th>\n",
       "      <td>inflation_monthly_euro</td>\n",
       "      <td>0.2% – 0.4%</td>\n",
       "      <td>0.0% – 0.2% or 0.4% – 0.8%</td>\n",
       "      <td>&lt; 0% or &gt; 0.8%</td>\n",
       "    </tr>\n",
       "    <tr>\n",
       "      <th>1</th>\n",
       "      <td>interest_rate_monthly_euro</td>\n",
       "      <td>0.5% – 2.5%</td>\n",
       "      <td>0.0% – 0.5% or 2.5% – 4.0%</td>\n",
       "      <td>&lt; 0.0% or &gt; 4.0%</td>\n",
       "    </tr>\n",
       "    <tr>\n",
       "      <th>2</th>\n",
       "      <td>unemployment_rate_monthly_euro</td>\n",
       "      <td>5.5% – 7.0%</td>\n",
       "      <td>4.5% – 5.5% or 7.0% – 9.0%</td>\n",
       "      <td>&lt; 4.5% or &gt; 9.0%</td>\n",
       "    </tr>\n",
       "    <tr>\n",
       "      <th>3</th>\n",
       "      <td>inflation_monthly_us</td>\n",
       "      <td>0.2% – 0.4%</td>\n",
       "      <td>0.0% – 0.2% or 0.4% – 0.8%</td>\n",
       "      <td>&lt; 0% or &gt; 0.8%</td>\n",
       "    </tr>\n",
       "    <tr>\n",
       "      <th>4</th>\n",
       "      <td>interest_rate_monthly_us</td>\n",
       "      <td>1.5% – 3.5%</td>\n",
       "      <td>0.5% – 1.5% or 3.5% – 5.5%</td>\n",
       "      <td>&lt; 0.5% or &gt; 5.5%</td>\n",
       "    </tr>\n",
       "    <tr>\n",
       "      <th>5</th>\n",
       "      <td>unemployment_monthly_rate_us</td>\n",
       "      <td>3.5% – 5.0%</td>\n",
       "      <td>2.5% – 3.5% or 5.0% – 7.0%</td>\n",
       "      <td>&lt; 2.5% or &gt; 7.0%</td>\n",
       "    </tr>\n",
       "  </tbody>\n",
       "</table>\n",
       "</div>"
      ],
      "text/plain": [
       "                        indicator   good_range                medium_range  \\\n",
       "0          inflation_monthly_euro  0.2% – 0.4%  0.0% – 0.2% or 0.4% – 0.8%   \n",
       "1      interest_rate_monthly_euro  0.5% – 2.5%  0.0% – 0.5% or 2.5% – 4.0%   \n",
       "2  unemployment_rate_monthly_euro  5.5% – 7.0%  4.5% – 5.5% or 7.0% – 9.0%   \n",
       "3            inflation_monthly_us  0.2% – 0.4%  0.0% – 0.2% or 0.4% – 0.8%   \n",
       "4        interest_rate_monthly_us  1.5% – 3.5%  0.5% – 1.5% or 3.5% – 5.5%   \n",
       "5    unemployment_monthly_rate_us  3.5% – 5.0%  2.5% – 3.5% or 5.0% – 7.0%   \n",
       "\n",
       "          bad_range  \n",
       "0    < 0% or > 0.8%  \n",
       "1  < 0.0% or > 4.0%  \n",
       "2  < 4.5% or > 9.0%  \n",
       "3    < 0% or > 0.8%  \n",
       "4  < 0.5% or > 5.5%  \n",
       "5  < 2.5% or > 7.0%  "
      ]
     },
     "execution_count": 2,
     "metadata": {},
     "output_type": "execute_result"
    }
   ],
   "source": [
    "file = \"config/economic_thresholds_europe_us.csv\"\n",
    "\n",
    "df_thresholds = pd.read_csv(file)\n",
    "df_thresholds"
   ]
  },
  {
   "cell_type": "code",
   "execution_count": 1,
   "id": "951a28a5",
   "metadata": {},
   "outputs": [
    {
     "ename": "NameError",
     "evalue": "name 'main' is not defined",
     "output_type": "error",
     "traceback": [
      "\u001b[0;31m---------------------------------------------------------------------------\u001b[0m",
      "\u001b[0;31mNameError\u001b[0m                                 Traceback (most recent call last)",
      "Cell \u001b[0;32mIn[1], line 1\u001b[0m\n\u001b[0;32m----> 1\u001b[0m df \u001b[38;5;241m=\u001b[39m \u001b[43mmain\u001b[49m\u001b[38;5;241m.\u001b[39mmain()\n\u001b[1;32m      2\u001b[0m df\n",
      "\u001b[0;31mNameError\u001b[0m: name 'main' is not defined"
     ]
    }
   ],
   "source": [
    "df = main.main()\n",
    "df"
   ]
  }
 ],
 "metadata": {
  "kernelspec": {
   "display_name": ".venv",
   "language": "python",
   "name": "python3"
  },
  "language_info": {
   "codemirror_mode": {
    "name": "ipython",
    "version": 3
   },
   "file_extension": ".py",
   "mimetype": "text/x-python",
   "name": "python",
   "nbconvert_exporter": "python",
   "pygments_lexer": "ipython3",
   "version": "3.12.9"
  }
 },
 "nbformat": 4,
 "nbformat_minor": 5
}
